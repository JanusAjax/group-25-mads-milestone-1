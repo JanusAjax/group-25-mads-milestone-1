{
 "cells": [
  {
   "cell_type": "code",
   "execution_count": 27,
   "id": "183b98cb",
   "metadata": {},
   "outputs": [],
   "source": [
    "import nfl_data_py as nfl\n",
    "import pandas as pd\n",
    "import numpy as np"
   ]
  },
  {
   "cell_type": "code",
   "execution_count": 38,
   "id": "1b1da335",
   "metadata": {},
   "outputs": [
    {
     "name": "stdout",
     "output_type": "stream",
     "text": [
      "2024 done.\n",
      "Downcasting floats.\n"
     ]
    }
   ],
   "source": [
    "pbp = nfl.import_pbp_data([2024])\n",
    "weekly_roster_data = nfl.import_weekly_rosters([2024])\n",
    "earnings_data = pd.read_csv(\"overthecap/overthecap-earnings.csv\")"
   ]
  },
  {
   "cell_type": "code",
   "execution_count": 39,
   "id": "425f7461",
   "metadata": {},
   "outputs": [
    {
     "data": {
      "text/html": [
       "<div>\n",
       "<style scoped>\n",
       "    .dataframe tbody tr th:only-of-type {\n",
       "        vertical-align: middle;\n",
       "    }\n",
       "\n",
       "    .dataframe tbody tr th {\n",
       "        vertical-align: top;\n",
       "    }\n",
       "\n",
       "    .dataframe thead th {\n",
       "        text-align: right;\n",
       "    }\n",
       "</style>\n",
       "<table border=\"1\" class=\"dataframe\">\n",
       "  <thead>\n",
       "    <tr style=\"text-align: right;\">\n",
       "      <th></th>\n",
       "      <th>team_x</th>\n",
       "      <th>week</th>\n",
       "      <th>player_name</th>\n",
       "      <th>player_id</th>\n",
       "      <th>position</th>\n",
       "      <th>status</th>\n",
       "      <th>year</th>\n",
       "      <th>team_y</th>\n",
       "      <th>base_salary</th>\n",
       "      <th>prorated_bonus</th>\n",
       "      <th>Unnamed: 5</th>\n",
       "      <th>guaranteed_salary</th>\n",
       "      <th>capnumber</th>\n",
       "      <th>cap_percent</th>\n",
       "      <th>cash_paid</th>\n",
       "    </tr>\n",
       "  </thead>\n",
       "  <tbody>\n",
       "  </tbody>\n",
       "</table>\n",
       "</div>"
      ],
      "text/plain": [
       "Empty DataFrame\n",
       "Columns: [team_x, week, player_name, player_id, position, status, year, team_y, base_salary, prorated_bonus, Unnamed: 5, guaranteed_salary, capnumber, cap_percent, cash_paid]\n",
       "Index: []"
      ]
     },
     "execution_count": 39,
     "metadata": {},
     "output_type": "execute_result"
    }
   ],
   "source": [
    "wr_data = weekly_roster_data[['team', 'week', 'player_name', 'player_id', 'position', 'status']]\n",
    "\n",
    "wr_data_with_earnings = pd.merge(\n",
    "    wr_data,\n",
    "    earnings_data,\n",
    "    left_on='player_name',\n",
    "    right_on='player_name',\n",
    "    how='left'\n",
    ")\n",
    "\n",
    "# Fix: use .str.contains instead of .contains, and handle possible NaNs\n",
    "wr_data_with_earnings[wr_data_with_earnings['player_name'].str.contains(\"Chauncey Gardner\", na=False)]"
   ]
  }
 ],
 "metadata": {
  "kernelspec": {
   "display_name": "Python 3",
   "language": "python",
   "name": "python3"
  },
  "language_info": {
   "codemirror_mode": {
    "name": "ipython",
    "version": 3
   },
   "file_extension": ".py",
   "mimetype": "text/x-python",
   "name": "python",
   "nbconvert_exporter": "python",
   "pygments_lexer": "ipython3",
   "version": "3.10.12"
  }
 },
 "nbformat": 4,
 "nbformat_minor": 5
}
